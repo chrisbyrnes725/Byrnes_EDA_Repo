{
 "cells": [
  {
   "cell_type": "code",
   "execution_count": 302,
   "id": "permanent-undergraduate",
   "metadata": {},
   "outputs": [],
   "source": [
    "#Used following coding on MAC terminal as provided by Chris Bruehl on 3/23/21\n",
    "\n",
    "#sqlite3 mta.db\n",
    "\n",
    "## Create the table\n",
    "#CREATE TABLE mta_data (\n",
    "#\tCA TEXT,\n",
    "#\tUNIT TEXT,\n",
    "#\tSCP TEXT,\n",
    "#\tSTATION TEXT,\n",
    "#\tLINENAME TEXT,\n",
    "#\tDIVISION TEXT,\n",
    "#\tDATE TEXT,\n",
    "#\tTIME TEXT,\n",
    "#\tDESC TEXT,\n",
    "#\tENTRIES INTEGER,\n",
    "#\tEXITS INTEGER,\n",
    "#\tPRIMARY KEY (CA,UNIT,SCP,STATION,LINENAME,DIVISION,DATE,TIME,DESC,ENTRIES,EXITS));\n"
   ]
  },
  {
   "cell_type": "code",
   "execution_count": 303,
   "id": "incorporate-mining",
   "metadata": {},
   "outputs": [],
   "source": [
    "#Ran once in python\n",
    "\n",
    "#import urllib.request\n",
    "\n",
    "#url = \"http://web.mta.info/developers/data/nyct/turnstile/turnstile_{}.txt\"\n",
    "#week_nums = [190803, 190810, 190817, 190824,190831, 190907, 190914, 190914, 190921,\n",
    "#190928, 191005, 191012, 191019, 191026]\n",
    "\n",
    "#for week_num in week_nums:\n",
    "#    urllib.request.urlretrieve(f\"http://web.mta.info/developers/data/nyct/turnstile/turnstile_{week_num}.txt\",\n",
    "#                               f\"turnstile_{week_num}.txt\")"
   ]
  },
  {
   "cell_type": "code",
   "execution_count": 304,
   "id": "computational-firmware",
   "metadata": {},
   "outputs": [],
   "source": [
    "##More from Chris Bruehl on 3/23/21\n",
    "\n",
    "## Combine them into one big csv to load into sqlite from MAC terminal\n",
    "# head -1 turnstile_210313.txt > all_combined.csv\n",
    "# tail -n +2 -q *.txt >> all_combined.csv\n",
    "\n",
    "# Go back to sqlite tab; load the big csv into sqlite\n",
    "#.mode csv\n",
    "#.import data/all_combined.csv mta_data "
   ]
  },
  {
   "cell_type": "code",
   "execution_count": 305,
   "id": "interested-leonard",
   "metadata": {},
   "outputs": [],
   "source": [
    "from sqlalchemy import create_engine\n",
    "import pandas as pd\n",
    "import numpy as np\n",
    "import datetime\n",
    "%matplotlib inline\n",
    "import matplotlib.pyplot as plt\n",
    "import seaborn as sns\n",
    "sns.set_style('dark')\n",
    "sns.set_palette('Set2')"
   ]
  },
  {
   "cell_type": "code",
   "execution_count": 306,
   "id": "declared-luxury",
   "metadata": {},
   "outputs": [],
   "source": [
    "engine = create_engine(\"sqlite:///mta.db\")"
   ]
  },
  {
   "cell_type": "code",
   "execution_count": 307,
   "id": "historic-skating",
   "metadata": {},
   "outputs": [
    {
     "data": {
      "text/plain": [
       "['mta_data']"
      ]
     },
     "execution_count": 307,
     "metadata": {},
     "output_type": "execute_result"
    }
   ],
   "source": [
    "all_tables = engine.table_names()\n",
    "all_tables"
   ]
  },
  {
   "cell_type": "code",
   "execution_count": 308,
   "id": "requested-attendance",
   "metadata": {},
   "outputs": [],
   "source": [
    "df = pd.read_sql('SELECT * FROM mta_data WHERE LINENAME = \"4\" or LINENAME = \"5\" or LINENAME = \"6\" or LINENAME = \"25\" or LINENAME = \"BD\";'\n",
    "                 , engine)"
   ]
  },
  {
   "cell_type": "code",
   "execution_count": 309,
   "id": "together-hardware",
   "metadata": {},
   "outputs": [
    {
     "name": "stdout",
     "output_type": "stream",
     "text": [
      "<class 'pandas.core.frame.DataFrame'>\n",
      "RangeIndex: 323899 entries, 0 to 323898\n",
      "Data columns (total 11 columns):\n",
      " #   Column    Non-Null Count   Dtype \n",
      "---  ------    --------------   ----- \n",
      " 0   CA        323899 non-null  object\n",
      " 1   UNIT      323899 non-null  object\n",
      " 2   SCP       323899 non-null  object\n",
      " 3   STATION   323899 non-null  object\n",
      " 4   LINENAME  323899 non-null  object\n",
      " 5   DIVISION  323899 non-null  object\n",
      " 6   DATE      323899 non-null  object\n",
      " 7   TIME      323899 non-null  object\n",
      " 8   DESC      323899 non-null  object\n",
      " 9   ENTRIES   323899 non-null  int64 \n",
      " 10  EXITS     323899 non-null  int64 \n",
      "dtypes: int64(2), object(9)\n",
      "memory usage: 27.2+ MB\n"
     ]
    }
   ],
   "source": [
    "df.info()"
   ]
  },
  {
   "cell_type": "code",
   "execution_count": 310,
   "id": "challenging-dollar",
   "metadata": {},
   "outputs": [],
   "source": [
    "df[\"DATE_TIME\"] = pd.to_datetime(df.DATE + \" \" + df.TIME,format=\"%m/%d/%Y %H:%M:%S\")"
   ]
  },
  {
   "cell_type": "code",
   "execution_count": 311,
   "id": "ultimate-james",
   "metadata": {},
   "outputs": [
    {
     "data": {
      "text/html": [
       "<div>\n",
       "<style scoped>\n",
       "    .dataframe tbody tr th:only-of-type {\n",
       "        vertical-align: middle;\n",
       "    }\n",
       "\n",
       "    .dataframe tbody tr th {\n",
       "        vertical-align: top;\n",
       "    }\n",
       "\n",
       "    .dataframe thead th {\n",
       "        text-align: right;\n",
       "    }\n",
       "</style>\n",
       "<table border=\"1\" class=\"dataframe\">\n",
       "  <thead>\n",
       "    <tr style=\"text-align: right;\">\n",
       "      <th></th>\n",
       "      <th>CA</th>\n",
       "      <th>UNIT</th>\n",
       "      <th>SCP</th>\n",
       "      <th>STATION</th>\n",
       "      <th>LINENAME</th>\n",
       "      <th>DIVISION</th>\n",
       "      <th>DATE</th>\n",
       "      <th>TIME</th>\n",
       "      <th>DESC</th>\n",
       "      <th>ENTRIES</th>\n",
       "      <th>EXITS</th>\n",
       "      <th>DATE_TIME</th>\n",
       "    </tr>\n",
       "  </thead>\n",
       "  <tbody>\n",
       "    <tr>\n",
       "      <th>319990</th>\n",
       "      <td>R419</td>\n",
       "      <td>R326</td>\n",
       "      <td>00-05-01</td>\n",
       "      <td>ZEREGA AV</td>\n",
       "      <td>6</td>\n",
       "      <td>IRT</td>\n",
       "      <td>10/25/2019</td>\n",
       "      <td>21:00:00</td>\n",
       "      <td>REGULAR</td>\n",
       "      <td>39</td>\n",
       "      <td>160</td>\n",
       "      <td>2019-10-25 21:00:00</td>\n",
       "    </tr>\n",
       "    <tr>\n",
       "      <th>319989</th>\n",
       "      <td>R419</td>\n",
       "      <td>R326</td>\n",
       "      <td>00-05-01</td>\n",
       "      <td>ZEREGA AV</td>\n",
       "      <td>6</td>\n",
       "      <td>IRT</td>\n",
       "      <td>10/25/2019</td>\n",
       "      <td>17:00:00</td>\n",
       "      <td>REGULAR</td>\n",
       "      <td>39</td>\n",
       "      <td>160</td>\n",
       "      <td>2019-10-25 17:00:00</td>\n",
       "    </tr>\n",
       "    <tr>\n",
       "      <th>319988</th>\n",
       "      <td>R419</td>\n",
       "      <td>R326</td>\n",
       "      <td>00-05-01</td>\n",
       "      <td>ZEREGA AV</td>\n",
       "      <td>6</td>\n",
       "      <td>IRT</td>\n",
       "      <td>10/25/2019</td>\n",
       "      <td>13:00:00</td>\n",
       "      <td>REGULAR</td>\n",
       "      <td>39</td>\n",
       "      <td>160</td>\n",
       "      <td>2019-10-25 13:00:00</td>\n",
       "    </tr>\n",
       "    <tr>\n",
       "      <th>319987</th>\n",
       "      <td>R419</td>\n",
       "      <td>R326</td>\n",
       "      <td>00-05-01</td>\n",
       "      <td>ZEREGA AV</td>\n",
       "      <td>6</td>\n",
       "      <td>IRT</td>\n",
       "      <td>10/25/2019</td>\n",
       "      <td>09:00:00</td>\n",
       "      <td>REGULAR</td>\n",
       "      <td>39</td>\n",
       "      <td>160</td>\n",
       "      <td>2019-10-25 09:00:00</td>\n",
       "    </tr>\n",
       "    <tr>\n",
       "      <th>319986</th>\n",
       "      <td>R419</td>\n",
       "      <td>R326</td>\n",
       "      <td>00-05-01</td>\n",
       "      <td>ZEREGA AV</td>\n",
       "      <td>6</td>\n",
       "      <td>IRT</td>\n",
       "      <td>10/25/2019</td>\n",
       "      <td>05:00:00</td>\n",
       "      <td>REGULAR</td>\n",
       "      <td>39</td>\n",
       "      <td>160</td>\n",
       "      <td>2019-10-25 05:00:00</td>\n",
       "    </tr>\n",
       "    <tr>\n",
       "      <th>...</th>\n",
       "      <td>...</td>\n",
       "      <td>...</td>\n",
       "      <td>...</td>\n",
       "      <td>...</td>\n",
       "      <td>...</td>\n",
       "      <td>...</td>\n",
       "      <td>...</td>\n",
       "      <td>...</td>\n",
       "      <td>...</td>\n",
       "      <td>...</td>\n",
       "      <td>...</td>\n",
       "      <td>...</td>\n",
       "    </tr>\n",
       "    <tr>\n",
       "      <th>9442</th>\n",
       "      <td>R252</td>\n",
       "      <td>R180</td>\n",
       "      <td>00-00-00</td>\n",
       "      <td>103 ST</td>\n",
       "      <td>6</td>\n",
       "      <td>IRT</td>\n",
       "      <td>07/27/2019</td>\n",
       "      <td>17:00:00</td>\n",
       "      <td>REGULAR</td>\n",
       "      <td>33962</td>\n",
       "      <td>32933</td>\n",
       "      <td>2019-07-27 17:00:00</td>\n",
       "    </tr>\n",
       "    <tr>\n",
       "      <th>9441</th>\n",
       "      <td>R252</td>\n",
       "      <td>R180</td>\n",
       "      <td>00-00-00</td>\n",
       "      <td>103 ST</td>\n",
       "      <td>6</td>\n",
       "      <td>IRT</td>\n",
       "      <td>07/27/2019</td>\n",
       "      <td>13:00:00</td>\n",
       "      <td>REGULAR</td>\n",
       "      <td>33541</td>\n",
       "      <td>32608</td>\n",
       "      <td>2019-07-27 13:00:00</td>\n",
       "    </tr>\n",
       "    <tr>\n",
       "      <th>9440</th>\n",
       "      <td>R252</td>\n",
       "      <td>R180</td>\n",
       "      <td>00-00-00</td>\n",
       "      <td>103 ST</td>\n",
       "      <td>6</td>\n",
       "      <td>IRT</td>\n",
       "      <td>07/27/2019</td>\n",
       "      <td>09:00:00</td>\n",
       "      <td>REGULAR</td>\n",
       "      <td>33122</td>\n",
       "      <td>32266</td>\n",
       "      <td>2019-07-27 09:00:00</td>\n",
       "    </tr>\n",
       "    <tr>\n",
       "      <th>9439</th>\n",
       "      <td>R252</td>\n",
       "      <td>R180</td>\n",
       "      <td>00-00-00</td>\n",
       "      <td>103 ST</td>\n",
       "      <td>6</td>\n",
       "      <td>IRT</td>\n",
       "      <td>07/27/2019</td>\n",
       "      <td>05:00:00</td>\n",
       "      <td>REGULAR</td>\n",
       "      <td>32917</td>\n",
       "      <td>32010</td>\n",
       "      <td>2019-07-27 05:00:00</td>\n",
       "    </tr>\n",
       "    <tr>\n",
       "      <th>9438</th>\n",
       "      <td>R252</td>\n",
       "      <td>R180</td>\n",
       "      <td>00-00-00</td>\n",
       "      <td>103 ST</td>\n",
       "      <td>6</td>\n",
       "      <td>IRT</td>\n",
       "      <td>07/27/2019</td>\n",
       "      <td>01:00:00</td>\n",
       "      <td>REGULAR</td>\n",
       "      <td>32892</td>\n",
       "      <td>31949</td>\n",
       "      <td>2019-07-27 01:00:00</td>\n",
       "    </tr>\n",
       "  </tbody>\n",
       "</table>\n",
       "<p>323899 rows × 12 columns</p>\n",
       "</div>"
      ],
      "text/plain": [
       "          CA  UNIT       SCP    STATION LINENAME DIVISION        DATE  \\\n",
       "319990  R419  R326  00-05-01  ZEREGA AV        6      IRT  10/25/2019   \n",
       "319989  R419  R326  00-05-01  ZEREGA AV        6      IRT  10/25/2019   \n",
       "319988  R419  R326  00-05-01  ZEREGA AV        6      IRT  10/25/2019   \n",
       "319987  R419  R326  00-05-01  ZEREGA AV        6      IRT  10/25/2019   \n",
       "319986  R419  R326  00-05-01  ZEREGA AV        6      IRT  10/25/2019   \n",
       "...      ...   ...       ...        ...      ...      ...         ...   \n",
       "9442    R252  R180  00-00-00     103 ST        6      IRT  07/27/2019   \n",
       "9441    R252  R180  00-00-00     103 ST        6      IRT  07/27/2019   \n",
       "9440    R252  R180  00-00-00     103 ST        6      IRT  07/27/2019   \n",
       "9439    R252  R180  00-00-00     103 ST        6      IRT  07/27/2019   \n",
       "9438    R252  R180  00-00-00     103 ST        6      IRT  07/27/2019   \n",
       "\n",
       "            TIME     DESC  ENTRIES  EXITS           DATE_TIME  \n",
       "319990  21:00:00  REGULAR       39    160 2019-10-25 21:00:00  \n",
       "319989  17:00:00  REGULAR       39    160 2019-10-25 17:00:00  \n",
       "319988  13:00:00  REGULAR       39    160 2019-10-25 13:00:00  \n",
       "319987  09:00:00  REGULAR       39    160 2019-10-25 09:00:00  \n",
       "319986  05:00:00  REGULAR       39    160 2019-10-25 05:00:00  \n",
       "...          ...      ...      ...    ...                 ...  \n",
       "9442    17:00:00  REGULAR    33962  32933 2019-07-27 17:00:00  \n",
       "9441    13:00:00  REGULAR    33541  32608 2019-07-27 13:00:00  \n",
       "9440    09:00:00  REGULAR    33122  32266 2019-07-27 09:00:00  \n",
       "9439    05:00:00  REGULAR    32917  32010 2019-07-27 05:00:00  \n",
       "9438    01:00:00  REGULAR    32892  31949 2019-07-27 01:00:00  \n",
       "\n",
       "[323899 rows x 12 columns]"
      ]
     },
     "execution_count": 311,
     "metadata": {},
     "output_type": "execute_result"
    }
   ],
   "source": [
    "df.sort_values(['STATION','CA','UNIT','SCP','DATE','TIME'], ascending = False)"
   ]
  },
  {
   "cell_type": "code",
   "execution_count": 312,
   "id": "rocky-appearance",
   "metadata": {},
   "outputs": [],
   "source": [
    "df[[\"PREV_DATE\",\"PREV_TIME\",\"PREV_DATE_TIME\",\"PREV_ENTRIES\", \"PREV_EXITS\"]] = (df\n",
    "                                                       .groupby([\"CA\", \"UNIT\", \"SCP\", \"STATION\"])[[\"DATE\", \"TIME\", \"DATE_TIME\", \"ENTRIES\",\"EXITS\"]]\n",
    "                                                       .apply(lambda grp: grp.shift(1)))"
   ]
  },
  {
   "cell_type": "code",
   "execution_count": 313,
   "id": "recovered-simulation",
   "metadata": {},
   "outputs": [],
   "source": [
    "df.dropna(subset=[\"PREV_DATE\"], axis=0, inplace=True)"
   ]
  },
  {
   "cell_type": "code",
   "execution_count": 314,
   "id": "proper-sample",
   "metadata": {},
   "outputs": [
    {
     "name": "stdout",
     "output_type": "stream",
     "text": [
      "8 299598.0\n",
      "109924314 1928952353.0\n",
      "1124011719 12447170.0\n",
      "26 113956.0\n",
      "1035 351699.0\n",
      "9 550801.0\n",
      "569319988 779190.0\n",
      "33600558 189253.0\n",
      "507 3676614.0\n",
      "221 302163.0\n",
      "8 3319600.0\n",
      "4 2013355776.0\n",
      "102 17970.0\n",
      "425 17298359.0\n",
      "139431285 1325952663.0\n",
      "1870 5391681.0\n",
      "248 326895.0\n",
      "3584 253120.0\n",
      "285275072 1162483.0\n",
      "127 437251.0\n",
      "230 110114.0\n",
      "30 9112633.0\n",
      "268447449 1063972.0\n"
     ]
    }
   ],
   "source": [
    "def get_dif_entries(row, max_counter):\n",
    "    counter = row[\"ENTRIES\"] - row[\"PREV_ENTRIES\"]\n",
    "    if counter < 0:\n",
    "        counter = -counter\n",
    "    if counter > max_counter:\n",
    "        print(row[\"ENTRIES\"], row[\"PREV_ENTRIES\"])\n",
    "        return 0\n",
    "    return counter\n",
    "\n",
    "#using 10,000 entries per period as maximum allowed\n",
    "df[\"DIFF_ENTRIES\"]= df.apply(get_dif_entries, axis=1, max_counter=10000)"
   ]
  },
  {
   "cell_type": "code",
   "execution_count": 315,
   "id": "swedish-glance",
   "metadata": {},
   "outputs": [
    {
     "name": "stdout",
     "output_type": "stream",
     "text": [
      "0 299598.0\n",
      "114870601 1928952353.0\n",
      "1979715859 12447170.0\n",
      "3 113956.0\n",
      "379 351699.0\n",
      "3 550801.0\n",
      "569320459 779190.0\n",
      "53392 189253.0\n",
      "122 3676614.0\n",
      "645 302163.0\n",
      "65 3319600.0\n",
      "3 2013355776.0\n",
      "71 17970.0\n",
      "66 17298359.0\n",
      "171921348 1325952663.0\n",
      "405 5391681.0\n",
      "96 326895.0\n",
      "485 253120.0\n",
      "301995385 1162483.0\n",
      "44 437251.0\n",
      "266 110114.0\n",
      "17 9112633.0\n",
      "100725926 1063972.0\n"
     ]
    }
   ],
   "source": [
    "def get_dif_exits(row, max_counter):\n",
    "    counter = row[\"EXITS\"] - row[\"PREV_EXITS\"]\n",
    "    if counter < 0:\n",
    "        counter = -counter\n",
    "    if counter > max_counter:\n",
    "        print(row[\"EXITS\"], row[\"PREV_ENTRIES\"])\n",
    "        return 0\n",
    "    return counter\n",
    "#using 10,000 entries per period as maximum allowed\n",
    "df[\"DIFF_EXITS\"]= df.apply(get_dif_exits, axis=1, max_counter=10000)"
   ]
  },
  {
   "cell_type": "code",
   "execution_count": 316,
   "id": "tender-joint",
   "metadata": {},
   "outputs": [],
   "source": [
    "df[\"PER_TRAFFIC\"] = df[\"DIFF_ENTRIES\"] + df[\"DIFF_EXITS\"]"
   ]
  },
  {
   "cell_type": "code",
   "execution_count": 317,
   "id": "bottom-jordan",
   "metadata": {},
   "outputs": [],
   "source": [
    "df['DAY_WEEK'] = df['DATE_TIME'].dt.dayofweek\n",
    "# Week days = 0 - 4"
   ]
  },
  {
   "cell_type": "code",
   "execution_count": 318,
   "id": "prepared-senior",
   "metadata": {},
   "outputs": [],
   "source": [
    "line_station = (df.groupby([\"LINENAME\",\"STATION\",],as_index=False).PER_TRAFFIC.sum())"
   ]
  },
  {
   "cell_type": "code",
   "execution_count": 319,
   "id": "painful-prevention",
   "metadata": {},
   "outputs": [],
   "source": [
    "line_station.set_index(\"STATION\", drop=True, append=False, inplace=True,)"
   ]
  },
  {
   "cell_type": "code",
   "execution_count": 320,
   "id": "supposed-nightmare",
   "metadata": {},
   "outputs": [],
   "source": [
    "#Eliminating stations included that are not in Bronx\n",
    "line_station.drop(index=['PRESIDENT ST','STERLING ST','WINTHROP ST','CHURCH AV','BEVERLY RD','NEWKIRK AV','FLATBUSH AV-B.C'],inplace=True)\n",
    "line_station.drop(index=['77 ST','96 ST','103 ST','110 ST','116 ST','51 ST','33 ST','28 ST','23 ST','ASTOR PL','SPRING ST','ORCHARD BEACH','GRAND ST'],inplace=True)"
   ]
  },
  {
   "cell_type": "code",
   "execution_count": 321,
   "id": "genuine-lodging",
   "metadata": {},
   "outputs": [
    {
     "data": {
      "text/html": [
       "<div>\n",
       "<style scoped>\n",
       "    .dataframe tbody tr th:only-of-type {\n",
       "        vertical-align: middle;\n",
       "    }\n",
       "\n",
       "    .dataframe tbody tr th {\n",
       "        vertical-align: top;\n",
       "    }\n",
       "\n",
       "    .dataframe thead th {\n",
       "        text-align: right;\n",
       "    }\n",
       "</style>\n",
       "<table border=\"1\" class=\"dataframe\">\n",
       "  <thead>\n",
       "    <tr style=\"text-align: right;\">\n",
       "      <th></th>\n",
       "      <th>LINENAME</th>\n",
       "      <th>PER_TRAFFIC</th>\n",
       "    </tr>\n",
       "    <tr>\n",
       "      <th>STATION</th>\n",
       "      <th></th>\n",
       "      <th></th>\n",
       "    </tr>\n",
       "  </thead>\n",
       "  <tbody>\n",
       "    <tr>\n",
       "      <th>174 ST</th>\n",
       "      <td>25</td>\n",
       "      <td>1021317.0</td>\n",
       "    </tr>\n",
       "    <tr>\n",
       "      <th>219 ST</th>\n",
       "      <td>25</td>\n",
       "      <td>362165.0</td>\n",
       "    </tr>\n",
       "    <tr>\n",
       "      <th>225 ST</th>\n",
       "      <td>25</td>\n",
       "      <td>441725.0</td>\n",
       "    </tr>\n",
       "    <tr>\n",
       "      <th>233 ST</th>\n",
       "      <td>25</td>\n",
       "      <td>466696.0</td>\n",
       "    </tr>\n",
       "    <tr>\n",
       "      <th>3 AV-149 ST</th>\n",
       "      <td>25</td>\n",
       "      <td>2400953.0</td>\n",
       "    </tr>\n",
       "  </tbody>\n",
       "</table>\n",
       "</div>"
      ],
      "text/plain": [
       "            LINENAME  PER_TRAFFIC\n",
       "STATION                          \n",
       "174 ST            25    1021317.0\n",
       "219 ST            25     362165.0\n",
       "225 ST            25     441725.0\n",
       "233 ST            25     466696.0\n",
       "3 AV-149 ST       25    2400953.0"
      ]
     },
     "execution_count": 321,
     "metadata": {},
     "output_type": "execute_result"
    }
   ],
   "source": [
    "line_station.head()"
   ]
  },
  {
   "cell_type": "code",
   "execution_count": 322,
   "id": "smoking-wiring",
   "metadata": {},
   "outputs": [],
   "source": [
    "weekly_line_station = line_station.nsmallest(10, ['PER_TRAFFIC'])\n",
    "weekly_line_station['WEEKLY_AVG'] = weekly_line_station[\"PER_TRAFFIC\"]/13"
   ]
  },
  {
   "cell_type": "code",
   "execution_count": 323,
   "id": "passing-guyana",
   "metadata": {
    "scrolled": true
   },
   "outputs": [
    {
     "data": {
      "image/png": "[encoded data removed]",
      "text/plain": [
       "<Figure size 432x288 with 1 Axes>"
      ]
     },
     "metadata": {},
     "output_type": "display_data"
    }
   ],
   "source": [
    "sns.barplot(x = weekly_line_station.index, y=\"WEEKLY_AVG\",data=weekly_line_station)\n",
    "plt.xticks(rotation=45,fontsize=8)\n",
    "plt.tight_layout()\n",
    "#plt.title('WEEKLY AVERAGE TRAFFIC FOR LOWEST 10 BRONX STATIONS', fontsize = 10)\n",
    "plt.savefig('LOW10STATIONS.PNG');"
   ]
  },
  {
   "cell_type": "code",
   "execution_count": 324,
   "id": "convinced-exclusion",
   "metadata": {},
   "outputs": [
    {
     "name": "stderr",
     "output_type": "stream",
     "text": [
      "<ipython-input-324-7540d554661c>:2: SettingWithCopyWarning: \n",
      "A value is trying to be set on a copy of a slice from a DataFrame.\n",
      "Try using .loc[row_indexer,col_indexer] = value instead\n",
      "\n",
      "See the caveats in the documentation: https://pandas.pydata.org/pandas-docs/stable/user_guide/indexing.html#returning-a-view-versus-a-copy\n",
      "  line4[\"WEEKLY_AVG\"] = line4[\"PER_TRAFFIC\"]/13\n"
     ]
    }
   ],
   "source": [
    "line4 = line_station[line_station[\"LINENAME\"] == \"4\"]\n",
    "line4[\"WEEKLY_AVG\"] = line4[\"PER_TRAFFIC\"]/13\n",
    "line4 = line4.nsmallest(11, ['PER_TRAFFIC'])"
   ]
  },
  {
   "cell_type": "code",
   "execution_count": 325,
   "id": "subsequent-disposition",
   "metadata": {},
   "outputs": [
    {
     "data": {
      "image/png": "[encoded data removed]",
      "text/plain": [
       "<Figure size 432x288 with 1 Axes>"
      ]
     },
     "metadata": {},
     "output_type": "display_data"
    }
   ],
   "source": [
    "sns.barplot(x = line4.index, y=\"WEEKLY_AVG\",data=line4)\n",
    "plt.xticks(rotation=45,fontsize=8)\n",
    "plt.tight_layout()\n",
    "plt.savefig('STATIONS_LINE4.PNG');"
   ]
  },
  {
   "cell_type": "code",
   "execution_count": 326,
   "id": "manufactured-blade",
   "metadata": {},
   "outputs": [],
   "source": [
    "weekly_line = (line_station.groupby([\"LINENAME\"],as_index=False).PER_TRAFFIC.sum())"
   ]
  },
  {
   "cell_type": "code",
   "execution_count": 327,
   "id": "legislative-durham",
   "metadata": {},
   "outputs": [],
   "source": [
    "weekly_line[\"LINE_AVG_WEEKLY\"] = weekly_line[\"PER_TRAFFIC\"]/13"
   ]
  },
  {
   "cell_type": "code",
   "execution_count": 328,
   "id": "wired-future",
   "metadata": {},
   "outputs": [
    {
     "data": {
      "text/html": [
       "<div>\n",
       "<style scoped>\n",
       "    .dataframe tbody tr th:only-of-type {\n",
       "        vertical-align: middle;\n",
       "    }\n",
       "\n",
       "    .dataframe tbody tr th {\n",
       "        vertical-align: top;\n",
       "    }\n",
       "\n",
       "    .dataframe thead th {\n",
       "        text-align: right;\n",
       "    }\n",
       "</style>\n",
       "<table border=\"1\" class=\"dataframe\">\n",
       "  <thead>\n",
       "    <tr style=\"text-align: right;\">\n",
       "      <th></th>\n",
       "      <th>LINENAME</th>\n",
       "      <th>PER_TRAFFIC</th>\n",
       "      <th>LINE_AVG_WEEKLY</th>\n",
       "    </tr>\n",
       "  </thead>\n",
       "  <tbody>\n",
       "    <tr>\n",
       "      <th>0</th>\n",
       "      <td>25</td>\n",
       "      <td>13851945.0</td>\n",
       "      <td>1.065534e+06</td>\n",
       "    </tr>\n",
       "    <tr>\n",
       "      <th>1</th>\n",
       "      <td>4</td>\n",
       "      <td>10231457.0</td>\n",
       "      <td>7.870352e+05</td>\n",
       "    </tr>\n",
       "    <tr>\n",
       "      <th>2</th>\n",
       "      <td>5</td>\n",
       "      <td>2263978.0</td>\n",
       "      <td>1.741522e+05</td>\n",
       "    </tr>\n",
       "    <tr>\n",
       "      <th>3</th>\n",
       "      <td>6</td>\n",
       "      <td>18065730.0</td>\n",
       "      <td>1.389672e+06</td>\n",
       "    </tr>\n",
       "    <tr>\n",
       "      <th>4</th>\n",
       "      <td>BD</td>\n",
       "      <td>8319254.0</td>\n",
       "      <td>6.399426e+05</td>\n",
       "    </tr>\n",
       "  </tbody>\n",
       "</table>\n",
       "</div>"
      ],
      "text/plain": [
       "  LINENAME  PER_TRAFFIC  LINE_AVG_WEEKLY\n",
       "0       25   13851945.0     1.065534e+06\n",
       "1        4   10231457.0     7.870352e+05\n",
       "2        5    2263978.0     1.741522e+05\n",
       "3        6   18065730.0     1.389672e+06\n",
       "4       BD    8319254.0     6.399426e+05"
      ]
     },
     "execution_count": 328,
     "metadata": {},
     "output_type": "execute_result"
    }
   ],
   "source": [
    "weekly_line.head()"
   ]
  },
  {
   "cell_type": "code",
   "execution_count": 329,
   "id": "precise-serial",
   "metadata": {},
   "outputs": [
    {
     "data": {
      "image/png": "[encoded data removed]",
      "text/plain": [
       "<Figure size 432x288 with 1 Axes>"
      ]
     },
     "metadata": {},
     "output_type": "display_data"
    }
   ],
   "source": [
    "sns.barplot(x = \"LINENAME\", y=\"LINE_AVG_WEEKLY\",data=weekly_line)\n",
    "plt.xticks(fontsize=10)\n",
    "plt.tight_layout()\n",
    "plt.savefig('BRONX_LINE.PNG');"
   ]
  },
  {
   "cell_type": "code",
   "execution_count": null,
   "id": "consolidated-earth",
   "metadata": {},
   "outputs": [],
   "source": []
  }
 ],
 "metadata": {
  "kernelspec": {
   "display_name": "Python [conda env:metis] *",
   "language": "python",
   "name": "conda-env-metis-py"
  },
  "language_info": {
   "codemirror_mode": {
    "name": "ipython",
    "version": 3
   },
   "file_extension": ".py",
   "mimetype": "text/x-python",
   "name": "python",
   "nbconvert_exporter": "python",
   "pygments_lexer": "ipython3",
   "version": "3.8.8"
  }
 },
 "nbformat": 4,
 "nbformat_minor": 5
}
